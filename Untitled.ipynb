{
 "cells": [
  {
   "cell_type": "code",
   "execution_count": 10,
   "id": "e2e62e48",
   "metadata": {},
   "outputs": [
    {
     "name": "stdout",
     "output_type": "stream",
     "text": [
      "Accuracy by Topic:\n",
      "Topic\n",
      "Biology      0.5\n",
      "Chemistry    1.0\n",
      "Physics      0.5\n",
      "Name: Is_Correct, dtype: float64\n",
      "\n",
      "Accuracy by Difficulty:\n",
      "Difficulty\n",
      "Easy      1.0\n",
      "Hard      0.0\n",
      "Medium    1.0\n",
      "Name: Is_Correct, dtype: float64\n",
      "\n",
      "Predicted NEET Rank: 210354\n",
      "Predicted College Admission: Less Likely for MBBS, Consider BDS or Other Fields\n"
     ]
    },
    {
     "name": "stderr",
     "output_type": "stream",
     "text": [
      "C:\\Users\\H P\\anaconda3\\Lib\\site-packages\\sklearn\\base.py:464: UserWarning: X does not have valid feature names, but StandardScaler was fitted with feature names\n",
      "  warnings.warn(\n"
     ]
    }
   ],
   "source": [
    "import pandas as pd\n",
    "import numpy as np\n",
    "from sklearn.linear_model import LinearRegression\n",
    "from sklearn.preprocessing import StandardScaler\n",
    "from sklearn.pipeline import Pipeline\n",
    "\n",
    "# Sample Data (Replace with API calls to fetch actual data)\n",
    "current_quiz_data = pd.DataFrame({\n",
    "    'Question_ID': [101, 102, 103, 104, 105],\n",
    "    'Topic': ['Physics', 'Biology', 'Chemistry', 'Physics', 'Biology'],\n",
    "    'Difficulty': ['Hard', 'Easy', 'Medium', 'Medium', 'Hard'],\n",
    "    'Selected_Option': [1, 3, 2, 1, 4],\n",
    "    'Correct_Option': [2, 3, 2, 1, 3]\n",
    "})\n",
    "\n",
    "historical_quiz_data = pd.DataFrame({\n",
    "    'Quiz_ID': [1, 2, 3, 4, 5],\n",
    "    'Score': [450, 470, 490, 500, 480],\n",
    "    'Accuracy': [0.75, 0.78, 0.80, 0.83, 0.81]\n",
    "})\n",
    "\n",
    "neet_past_data = pd.DataFrame({\n",
    "    'Score': [300, 350, 400, 450, 500, 550, 600, 650, 700, 720],\n",
    "    'Rank': [500000, 400000, 300000, 200000, 100000, 50000, 20000, 10000, 5000, 1000]\n",
    "})\n",
    "\n",
    "# Step 1: Calculate Quiz Performance Metrics\n",
    "current_quiz_data['Is_Correct'] = current_quiz_data['Selected_Option'] == current_quiz_data['Correct_Option']\n",
    "accuracy_by_topic = current_quiz_data.groupby('Topic')['Is_Correct'].mean()\n",
    "accuracy_by_difficulty = current_quiz_data.groupby('Difficulty')['Is_Correct'].mean()\n",
    "\n",
    "# Step 2: Predict NEET Rank using Regression\n",
    "X = neet_past_data[['Score']]\n",
    "y = neet_past_data['Rank']\n",
    "\n",
    "model = Pipeline([\n",
    "    ('scaler', StandardScaler()),\n",
    "    ('regressor', LinearRegression())\n",
    "])\n",
    "\n",
    "model.fit(X, y)\n",
    "latest_score = historical_quiz_data['Score'].mean()\n",
    "predicted_rank = model.predict([[latest_score]])[0]\n",
    "\n",
    "# Step 3: Predict College Admission (Simplified Mapping)\n",
    "def predict_college(rank):\n",
    "    if rank < 5000:\n",
    "        return \"Top Govt Medical College\"\n",
    "    elif rank < 20000:\n",
    "        return \"Good Govt Medical College\"\n",
    "    elif rank < 50000:\n",
    "        return \"Private Medical College\"\n",
    "    else:\n",
    "        return \"Less Likely for MBBS, Consider BDS or Other Fields\"\n",
    "\n",
    "predicted_college = predict_college(predicted_rank)\n",
    "\n",
    "# Display Results\n",
    "print(\"Accuracy by Topic:\")\n",
    "print(accuracy_by_topic)\n",
    "print(\"\\nAccuracy by Difficulty:\")\n",
    "print(accuracy_by_difficulty)\n",
    "print(f\"\\nPredicted NEET Rank: {int(predicted_rank)}\")\n",
    "print(f\"Predicted College Admission: {predicted_college}\")"
   ]
  },
  {
   "cell_type": "code",
   "execution_count": null,
   "id": "666de933",
   "metadata": {},
   "outputs": [],
   "source": []
  },
  {
   "cell_type": "code",
   "execution_count": null,
   "id": "e99fd51e",
   "metadata": {},
   "outputs": [],
   "source": []
  }
 ],
 "metadata": {
  "kernelspec": {
   "display_name": "Python 3 (ipykernel)",
   "language": "python",
   "name": "python3"
  },
  "language_info": {
   "codemirror_mode": {
    "name": "ipython",
    "version": 3
   },
   "file_extension": ".py",
   "mimetype": "text/x-python",
   "name": "python",
   "nbconvert_exporter": "python",
   "pygments_lexer": "ipython3",
   "version": "3.11.5"
  }
 },
 "nbformat": 4,
 "nbformat_minor": 5
}
